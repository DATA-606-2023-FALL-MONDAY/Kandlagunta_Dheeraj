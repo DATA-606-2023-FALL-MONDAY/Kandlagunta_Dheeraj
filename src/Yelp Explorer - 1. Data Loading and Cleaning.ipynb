{
 "cells": [
  {
   "cell_type": "code",
   "execution_count": 2,
   "id": "6e0bab1b",
   "metadata": {},
   "outputs": [],
   "source": [
    "# Importing Packages\n",
    "import json\n",
    "import csv\n",
    "import matplotlib.pyplot as plt\n",
    "import pandas as pd\n",
    "import jsonlines\n",
    "import warnings\n",
    "pd.set_option('display.max_columns', 50)\n",
    "warnings.filterwarnings(\"ignore\")"
   ]
  },
  {
   "cell_type": "markdown",
   "id": "0837fa3d",
   "metadata": {},
   "source": [
    "The 2 main json files that I will be importing and analyzing for my Capstone Project are the `yelp_academic_dataset_business.json` and `yelp_academic_dataset_review.json` files."
   ]
  },
  {
   "cell_type": "code",
   "execution_count": 3,
   "id": "2921b46c",
   "metadata": {},
   "outputs": [],
   "source": [
    "data_path = \"../../../yelp_dataset/\""
   ]
  },
  {
   "cell_type": "markdown",
   "id": "6597cfb7",
   "metadata": {},
   "source": [
    "### Business File"
   ]
  },
  {
   "cell_type": "code",
   "execution_count": 4,
   "id": "6696c8c6",
   "metadata": {},
   "outputs": [
    {
     "name": "stdout",
     "output_type": "stream",
     "text": [
      "(150346, 14)\n"
     ]
    },
    {
     "data": {
      "text/html": [
       "<div>\n",
       "<style scoped>\n",
       "    .dataframe tbody tr th:only-of-type {\n",
       "        vertical-align: middle;\n",
       "    }\n",
       "\n",
       "    .dataframe tbody tr th {\n",
       "        vertical-align: top;\n",
       "    }\n",
       "\n",
       "    .dataframe thead th {\n",
       "        text-align: right;\n",
       "    }\n",
       "</style>\n",
       "<table border=\"1\" class=\"dataframe\">\n",
       "  <thead>\n",
       "    <tr style=\"text-align: right;\">\n",
       "      <th></th>\n",
       "      <th>business_id</th>\n",
       "      <th>name</th>\n",
       "      <th>address</th>\n",
       "      <th>city</th>\n",
       "      <th>state</th>\n",
       "      <th>postal_code</th>\n",
       "      <th>latitude</th>\n",
       "      <th>longitude</th>\n",
       "      <th>stars</th>\n",
       "      <th>review_count</th>\n",
       "      <th>is_open</th>\n",
       "      <th>attributes</th>\n",
       "      <th>categories</th>\n",
       "      <th>hours</th>\n",
       "    </tr>\n",
       "  </thead>\n",
       "  <tbody>\n",
       "    <tr>\n",
       "      <th>0</th>\n",
       "      <td>Pns2l4eNsfO8kk83dixA6A</td>\n",
       "      <td>Abby Rappoport, LAC, CMQ</td>\n",
       "      <td>1616 Chapala St, Ste 2</td>\n",
       "      <td>Santa Barbara</td>\n",
       "      <td>CA</td>\n",
       "      <td>93101</td>\n",
       "      <td>34.426679</td>\n",
       "      <td>-119.711197</td>\n",
       "      <td>5.0</td>\n",
       "      <td>7</td>\n",
       "      <td>0</td>\n",
       "      <td>{'ByAppointmentOnly': 'True'}</td>\n",
       "      <td>Doctors, Traditional Chinese Medicine, Naturop...</td>\n",
       "      <td>None</td>\n",
       "    </tr>\n",
       "    <tr>\n",
       "      <th>1</th>\n",
       "      <td>mpf3x-BjTdTEA3yCZrAYPw</td>\n",
       "      <td>The UPS Store</td>\n",
       "      <td>87 Grasso Plaza Shopping Center</td>\n",
       "      <td>Affton</td>\n",
       "      <td>MO</td>\n",
       "      <td>63123</td>\n",
       "      <td>38.551126</td>\n",
       "      <td>-90.335695</td>\n",
       "      <td>3.0</td>\n",
       "      <td>15</td>\n",
       "      <td>1</td>\n",
       "      <td>{'BusinessAcceptsCreditCards': 'True'}</td>\n",
       "      <td>Shipping Centers, Local Services, Notaries, Ma...</td>\n",
       "      <td>{'Monday': '0:0-0:0', 'Tuesday': '8:0-18:30', ...</td>\n",
       "    </tr>\n",
       "    <tr>\n",
       "      <th>2</th>\n",
       "      <td>tUFrWirKiKi_TAnsVWINQQ</td>\n",
       "      <td>Target</td>\n",
       "      <td>5255 E Broadway Blvd</td>\n",
       "      <td>Tucson</td>\n",
       "      <td>AZ</td>\n",
       "      <td>85711</td>\n",
       "      <td>32.223236</td>\n",
       "      <td>-110.880452</td>\n",
       "      <td>3.5</td>\n",
       "      <td>22</td>\n",
       "      <td>0</td>\n",
       "      <td>{'BikeParking': 'True', 'BusinessAcceptsCredit...</td>\n",
       "      <td>Department Stores, Shopping, Fashion, Home &amp; G...</td>\n",
       "      <td>{'Monday': '8:0-22:0', 'Tuesday': '8:0-22:0', ...</td>\n",
       "    </tr>\n",
       "    <tr>\n",
       "      <th>3</th>\n",
       "      <td>MTSW4McQd7CbVtyjqoe9mw</td>\n",
       "      <td>St Honore Pastries</td>\n",
       "      <td>935 Race St</td>\n",
       "      <td>Philadelphia</td>\n",
       "      <td>PA</td>\n",
       "      <td>19107</td>\n",
       "      <td>39.955505</td>\n",
       "      <td>-75.155564</td>\n",
       "      <td>4.0</td>\n",
       "      <td>80</td>\n",
       "      <td>1</td>\n",
       "      <td>{'RestaurantsDelivery': 'False', 'OutdoorSeati...</td>\n",
       "      <td>Restaurants, Food, Bubble Tea, Coffee &amp; Tea, B...</td>\n",
       "      <td>{'Monday': '7:0-20:0', 'Tuesday': '7:0-20:0', ...</td>\n",
       "    </tr>\n",
       "    <tr>\n",
       "      <th>4</th>\n",
       "      <td>mWMc6_wTdE0EUBKIGXDVfA</td>\n",
       "      <td>Perkiomen Valley Brewery</td>\n",
       "      <td>101 Walnut St</td>\n",
       "      <td>Green Lane</td>\n",
       "      <td>PA</td>\n",
       "      <td>18054</td>\n",
       "      <td>40.338183</td>\n",
       "      <td>-75.471659</td>\n",
       "      <td>4.5</td>\n",
       "      <td>13</td>\n",
       "      <td>1</td>\n",
       "      <td>{'BusinessAcceptsCreditCards': 'True', 'Wheelc...</td>\n",
       "      <td>Brewpubs, Breweries, Food</td>\n",
       "      <td>{'Wednesday': '14:0-22:0', 'Thursday': '16:0-2...</td>\n",
       "    </tr>\n",
       "  </tbody>\n",
       "</table>\n",
       "</div>"
      ],
      "text/plain": [
       "              business_id                      name  \\\n",
       "0  Pns2l4eNsfO8kk83dixA6A  Abby Rappoport, LAC, CMQ   \n",
       "1  mpf3x-BjTdTEA3yCZrAYPw             The UPS Store   \n",
       "2  tUFrWirKiKi_TAnsVWINQQ                    Target   \n",
       "3  MTSW4McQd7CbVtyjqoe9mw        St Honore Pastries   \n",
       "4  mWMc6_wTdE0EUBKIGXDVfA  Perkiomen Valley Brewery   \n",
       "\n",
       "                           address           city state postal_code  \\\n",
       "0           1616 Chapala St, Ste 2  Santa Barbara    CA       93101   \n",
       "1  87 Grasso Plaza Shopping Center         Affton    MO       63123   \n",
       "2             5255 E Broadway Blvd         Tucson    AZ       85711   \n",
       "3                      935 Race St   Philadelphia    PA       19107   \n",
       "4                    101 Walnut St     Green Lane    PA       18054   \n",
       "\n",
       "    latitude   longitude  stars  review_count  is_open  \\\n",
       "0  34.426679 -119.711197    5.0             7        0   \n",
       "1  38.551126  -90.335695    3.0            15        1   \n",
       "2  32.223236 -110.880452    3.5            22        0   \n",
       "3  39.955505  -75.155564    4.0            80        1   \n",
       "4  40.338183  -75.471659    4.5            13        1   \n",
       "\n",
       "                                          attributes  \\\n",
       "0                      {'ByAppointmentOnly': 'True'}   \n",
       "1             {'BusinessAcceptsCreditCards': 'True'}   \n",
       "2  {'BikeParking': 'True', 'BusinessAcceptsCredit...   \n",
       "3  {'RestaurantsDelivery': 'False', 'OutdoorSeati...   \n",
       "4  {'BusinessAcceptsCreditCards': 'True', 'Wheelc...   \n",
       "\n",
       "                                          categories  \\\n",
       "0  Doctors, Traditional Chinese Medicine, Naturop...   \n",
       "1  Shipping Centers, Local Services, Notaries, Ma...   \n",
       "2  Department Stores, Shopping, Fashion, Home & G...   \n",
       "3  Restaurants, Food, Bubble Tea, Coffee & Tea, B...   \n",
       "4                          Brewpubs, Breweries, Food   \n",
       "\n",
       "                                               hours  \n",
       "0                                               None  \n",
       "1  {'Monday': '0:0-0:0', 'Tuesday': '8:0-18:30', ...  \n",
       "2  {'Monday': '8:0-22:0', 'Tuesday': '8:0-22:0', ...  \n",
       "3  {'Monday': '7:0-20:0', 'Tuesday': '7:0-20:0', ...  \n",
       "4  {'Wednesday': '14:0-22:0', 'Thursday': '16:0-2...  "
      ]
     },
     "execution_count": 4,
     "metadata": {},
     "output_type": "execute_result"
    }
   ],
   "source": [
    "# Importing Yelp Business JSON File\n",
    "\n",
    "# Create an empty list to store the JSON data\n",
    "business_list = []\n",
    "\n",
    "# Read the JSON file using jsonlines\n",
    "with jsonlines.open(data_path + \"yelp_academic_dataset_business.json\") as reader:\n",
    "    for obj in reader:\n",
    "        business_list.append(obj)\n",
    "        \n",
    "# Convert the list of JSON objects to a pandas DataFrame\n",
    "business_df = pd.DataFrame(business_list)        \n",
    "\n",
    "# Length of rows of Data\n",
    "print(business_df.shape)\n",
    "\n",
    "# Display the first few rows of the DataFrame\n",
    "business_df.head()"
   ]
  },
  {
   "cell_type": "code",
   "execution_count": 5,
   "id": "fcf9aa1e",
   "metadata": {},
   "outputs": [],
   "source": [
    "# Drop the columns that are not required\n",
    "business_df = business_df.drop(['attributes', 'hours'], axis=1)\n",
    "\n",
    "# Filtering only for businesses that are still open, open = 1, closed = 0\n",
    "business_df = business_df[business_df['is_open']==1]"
   ]
  },
  {
   "cell_type": "markdown",
   "id": "1af6c61a",
   "metadata": {},
   "source": [
    "### Deciding which City to Focus on"
   ]
  },
  {
   "cell_type": "code",
   "execution_count": 6,
   "id": "62baef5a",
   "metadata": {},
   "outputs": [
    {
     "data": {
      "text/plain": [
       "city\n",
       "Philadelphia     10542\n",
       "Tucson            7533\n",
       "Tampa             7219\n",
       "Indianapolis      5894\n",
       "Nashville         5398\n",
       "Reno              4762\n",
       "New Orleans       4649\n",
       "Edmonton          3916\n",
       "Saint Louis       3403\n",
       "Santa Barbara     3020\n",
       "Name: count, dtype: int64"
      ]
     },
     "execution_count": 6,
     "metadata": {},
     "output_type": "execute_result"
    }
   ],
   "source": [
    "# Top Cities that have the most number of Businesses in this dataset\n",
    "top_cities = business_df['city'].value_counts().head(10)\n",
    "top_cities"
   ]
  },
  {
   "cell_type": "markdown",
   "id": "673bae09",
   "metadata": {},
   "source": [
    "Philadelphia has the most number of Businesses in this dataset"
   ]
  },
  {
   "cell_type": "code",
   "execution_count": 7,
   "id": "87f0af05",
   "metadata": {},
   "outputs": [
    {
     "name": "stdout",
     "output_type": "stream",
     "text": [
      "(10542, 12)\n"
     ]
    },
    {
     "data": {
      "text/html": [
       "<div>\n",
       "<style scoped>\n",
       "    .dataframe tbody tr th:only-of-type {\n",
       "        vertical-align: middle;\n",
       "    }\n",
       "\n",
       "    .dataframe tbody tr th {\n",
       "        vertical-align: top;\n",
       "    }\n",
       "\n",
       "    .dataframe thead th {\n",
       "        text-align: right;\n",
       "    }\n",
       "</style>\n",
       "<table border=\"1\" class=\"dataframe\">\n",
       "  <thead>\n",
       "    <tr style=\"text-align: right;\">\n",
       "      <th></th>\n",
       "      <th>business_id</th>\n",
       "      <th>name</th>\n",
       "      <th>address</th>\n",
       "      <th>city</th>\n",
       "      <th>state</th>\n",
       "      <th>postal_code</th>\n",
       "      <th>latitude</th>\n",
       "      <th>longitude</th>\n",
       "      <th>stars</th>\n",
       "      <th>review_count</th>\n",
       "      <th>is_open</th>\n",
       "      <th>categories</th>\n",
       "    </tr>\n",
       "  </thead>\n",
       "  <tbody>\n",
       "    <tr>\n",
       "      <th>63245</th>\n",
       "      <td>XBwxCXPE8MX1aMs-zT1-Fg</td>\n",
       "      <td>Studio 34</td>\n",
       "      <td>4522 Baltimore Ave</td>\n",
       "      <td>Philadelphia</td>\n",
       "      <td>PA</td>\n",
       "      <td>19143</td>\n",
       "      <td>39.948841</td>\n",
       "      <td>-75.213618</td>\n",
       "      <td>4.5</td>\n",
       "      <td>47</td>\n",
       "      <td>1</td>\n",
       "      <td>Performing Arts, Yoga, Pilates, Active Life, H...</td>\n",
       "    </tr>\n",
       "    <tr>\n",
       "      <th>25436</th>\n",
       "      <td>6ewV-e7-39oqYUq3yZuIyw</td>\n",
       "      <td>Sabrina's Café</td>\n",
       "      <td>227 N 34th St</td>\n",
       "      <td>Philadelphia</td>\n",
       "      <td>PA</td>\n",
       "      <td>19104</td>\n",
       "      <td>39.959879</td>\n",
       "      <td>-75.190681</td>\n",
       "      <td>4.0</td>\n",
       "      <td>833</td>\n",
       "      <td>1</td>\n",
       "      <td>Breakfast &amp; Brunch, Restaurants, Vegetarian, A...</td>\n",
       "    </tr>\n",
       "    <tr>\n",
       "      <th>59441</th>\n",
       "      <td>tIrKQRlAft3cytlm4khnKQ</td>\n",
       "      <td>Taco Bell</td>\n",
       "      <td>3032 North Broad St.</td>\n",
       "      <td>Philadelphia</td>\n",
       "      <td>PA</td>\n",
       "      <td>19132</td>\n",
       "      <td>39.999570</td>\n",
       "      <td>-75.153480</td>\n",
       "      <td>1.0</td>\n",
       "      <td>12</td>\n",
       "      <td>1</td>\n",
       "      <td>Restaurants, Tex-Mex, Mexican, Fast Food, Tacos</td>\n",
       "    </tr>\n",
       "    <tr>\n",
       "      <th>94437</th>\n",
       "      <td>mkVVsdk89hlrMk_R0pA3Gw</td>\n",
       "      <td>Vision Graphics</td>\n",
       "      <td>221 Chestnut St</td>\n",
       "      <td>Philadelphia</td>\n",
       "      <td>PA</td>\n",
       "      <td>19106</td>\n",
       "      <td>39.948665</td>\n",
       "      <td>-75.144992</td>\n",
       "      <td>5.0</td>\n",
       "      <td>29</td>\n",
       "      <td>1</td>\n",
       "      <td>Photography Stores &amp; Services, Printing Servic...</td>\n",
       "    </tr>\n",
       "    <tr>\n",
       "      <th>145257</th>\n",
       "      <td>K5iDEmYP3mc_uwZqHMSR2g</td>\n",
       "      <td>i MADE a MESS</td>\n",
       "      <td>1019 Spruce St</td>\n",
       "      <td>Philadelphia</td>\n",
       "      <td>PA</td>\n",
       "      <td>19103</td>\n",
       "      <td>39.946358</td>\n",
       "      <td>-75.158574</td>\n",
       "      <td>3.0</td>\n",
       "      <td>11</td>\n",
       "      <td>1</td>\n",
       "      <td>Home Services, Professional Services, Interior...</td>\n",
       "    </tr>\n",
       "  </tbody>\n",
       "</table>\n",
       "</div>"
      ],
      "text/plain": [
       "                   business_id             name               address  \\\n",
       "63245   XBwxCXPE8MX1aMs-zT1-Fg        Studio 34    4522 Baltimore Ave   \n",
       "25436   6ewV-e7-39oqYUq3yZuIyw   Sabrina's Café         227 N 34th St   \n",
       "59441   tIrKQRlAft3cytlm4khnKQ        Taco Bell  3032 North Broad St.   \n",
       "94437   mkVVsdk89hlrMk_R0pA3Gw  Vision Graphics       221 Chestnut St   \n",
       "145257  K5iDEmYP3mc_uwZqHMSR2g    i MADE a MESS        1019 Spruce St   \n",
       "\n",
       "                city state postal_code   latitude  longitude  stars  \\\n",
       "63245   Philadelphia    PA       19143  39.948841 -75.213618    4.5   \n",
       "25436   Philadelphia    PA       19104  39.959879 -75.190681    4.0   \n",
       "59441   Philadelphia    PA       19132  39.999570 -75.153480    1.0   \n",
       "94437   Philadelphia    PA       19106  39.948665 -75.144992    5.0   \n",
       "145257  Philadelphia    PA       19103  39.946358 -75.158574    3.0   \n",
       "\n",
       "        review_count  is_open  \\\n",
       "63245             47        1   \n",
       "25436            833        1   \n",
       "59441             12        1   \n",
       "94437             29        1   \n",
       "145257            11        1   \n",
       "\n",
       "                                               categories  \n",
       "63245   Performing Arts, Yoga, Pilates, Active Life, H...  \n",
       "25436   Breakfast & Brunch, Restaurants, Vegetarian, A...  \n",
       "59441     Restaurants, Tex-Mex, Mexican, Fast Food, Tacos  \n",
       "94437   Photography Stores & Services, Printing Servic...  \n",
       "145257  Home Services, Professional Services, Interior...  "
      ]
     },
     "execution_count": 7,
     "metadata": {},
     "output_type": "execute_result"
    }
   ],
   "source": [
    "# Filtering Philadelphia\n",
    "business_df = business_df[business_df.city.isin(['Philadelphia'])]\n",
    "print(business_df.shape)\n",
    "business_df.sample(5)"
   ]
  },
  {
   "cell_type": "markdown",
   "id": "bceee2d4-a61a-44fb-8663-c4ab01a50e57",
   "metadata": {},
   "source": [
    "### Deciding which Business to Focus on"
   ]
  },
  {
   "cell_type": "code",
   "execution_count": 8,
   "id": "712d3285-9424-4619-b61d-0e2474c8e37e",
   "metadata": {},
   "outputs": [
    {
     "name": "stdout",
     "output_type": "stream",
     "text": [
      "The number of unique business categories is: 46794\n"
     ]
    },
    {
     "data": {
      "text/plain": [
       "categories\n",
       "Restaurants                  3525\n",
       "Food                         2032\n",
       "Shopping                     1537\n",
       "Beauty & Spas                1083\n",
       "Home Services                1029\n",
       "Health & Medical              899\n",
       "Nightlife                     896\n",
       "Local Services                891\n",
       "Bars                          793\n",
       "Event Planning & Services     637\n",
       "Automotive                    592\n",
       "Coffee & Tea                  580\n",
       "Sandwiches                    578\n",
       "Pizza                         529\n",
       "Active Life                   496\n",
       "Arts & Entertainment          438\n",
       "American (Traditional)        432\n",
       "Hair Salons                   426\n",
       "Breakfast & Brunch            415\n",
       "American (New)                372\n",
       "Name: count, dtype: int64"
      ]
     },
     "execution_count": 8,
     "metadata": {},
     "output_type": "execute_result"
    }
   ],
   "source": [
    "# Overview of Business Categories\n",
    "business_categories = business_df.assign(categories = business_df.categories.str.split(', ')).explode('categories')\n",
    "print(str('The number of unique business categories is:'), len(business_categories))\n",
    "\n",
    "# Most Common Business Categories\n",
    "business_categories.categories.value_counts().head(20)"
   ]
  },
  {
   "cell_type": "markdown",
   "id": "be51210a-6513-4084-a75c-9a72ed46edba",
   "metadata": {},
   "source": [
    "In this project, our attention is solely on Restaurant businesses as it is the most popular business found on yelp. Therefore, we will limit the types of businesses included in our refined dataset. Referring to the count plot mentioned earlier, we will narrow down the categories to the following specific one: Restaurants."
   ]
  },
  {
   "cell_type": "code",
   "execution_count": 9,
   "id": "3c43ed59-712e-4c41-aa28-5aab13c1b231",
   "metadata": {},
   "outputs": [
    {
     "name": "stdout",
     "output_type": "stream",
     "text": [
      "(3525, 12)\n"
     ]
    },
    {
     "data": {
      "text/html": [
       "<div>\n",
       "<style scoped>\n",
       "    .dataframe tbody tr th:only-of-type {\n",
       "        vertical-align: middle;\n",
       "    }\n",
       "\n",
       "    .dataframe tbody tr th {\n",
       "        vertical-align: top;\n",
       "    }\n",
       "\n",
       "    .dataframe thead th {\n",
       "        text-align: right;\n",
       "    }\n",
       "</style>\n",
       "<table border=\"1\" class=\"dataframe\">\n",
       "  <thead>\n",
       "    <tr style=\"text-align: right;\">\n",
       "      <th></th>\n",
       "      <th>business_id</th>\n",
       "      <th>name</th>\n",
       "      <th>address</th>\n",
       "      <th>city</th>\n",
       "      <th>state</th>\n",
       "      <th>postal_code</th>\n",
       "      <th>latitude</th>\n",
       "      <th>longitude</th>\n",
       "      <th>stars</th>\n",
       "      <th>review_count</th>\n",
       "      <th>is_open</th>\n",
       "      <th>categories</th>\n",
       "    </tr>\n",
       "  </thead>\n",
       "  <tbody>\n",
       "    <tr>\n",
       "      <th>149143</th>\n",
       "      <td>e-ZyZc24wgkKafM3pguR2w</td>\n",
       "      <td>Milkcrate Cafe</td>\n",
       "      <td>400 E Girard Ave</td>\n",
       "      <td>Philadelphia</td>\n",
       "      <td>PA</td>\n",
       "      <td>19125</td>\n",
       "      <td>39.969974</td>\n",
       "      <td>-75.130207</td>\n",
       "      <td>4.5</td>\n",
       "      <td>228</td>\n",
       "      <td>1</td>\n",
       "      <td>Books, Mags, Music &amp; Video, Restaurants, Vinyl...</td>\n",
       "    </tr>\n",
       "    <tr>\n",
       "      <th>121485</th>\n",
       "      <td>Ui5VPcIQzUvYhJ_NuTgukg</td>\n",
       "      <td>Popeyes Louisiana Kitchen</td>\n",
       "      <td>5200 Woodland Ave</td>\n",
       "      <td>Philadelphia</td>\n",
       "      <td>PA</td>\n",
       "      <td>19143</td>\n",
       "      <td>39.938272</td>\n",
       "      <td>-75.215610</td>\n",
       "      <td>1.5</td>\n",
       "      <td>22</td>\n",
       "      <td>1</td>\n",
       "      <td>Chicken Wings, American (Traditional), Fast Fo...</td>\n",
       "    </tr>\n",
       "    <tr>\n",
       "      <th>38607</th>\n",
       "      <td>qnprJxrjwuEivitA8V2aEQ</td>\n",
       "      <td>Fiorella</td>\n",
       "      <td>817 Christian St</td>\n",
       "      <td>Philadelphia</td>\n",
       "      <td>PA</td>\n",
       "      <td>19147</td>\n",
       "      <td>39.938868</td>\n",
       "      <td>-75.156939</td>\n",
       "      <td>4.5</td>\n",
       "      <td>120</td>\n",
       "      <td>1</td>\n",
       "      <td>Pasta Shops, Specialty Food, Food, Italian, Re...</td>\n",
       "    </tr>\n",
       "    <tr>\n",
       "      <th>124112</th>\n",
       "      <td>R3r9ZoGExGDZL4etQUrwUQ</td>\n",
       "      <td>Jump To It</td>\n",
       "      <td>2528 S 24th St</td>\n",
       "      <td>Philadelphia</td>\n",
       "      <td>PA</td>\n",
       "      <td>19145</td>\n",
       "      <td>39.920558</td>\n",
       "      <td>-75.188250</td>\n",
       "      <td>2.5</td>\n",
       "      <td>16</td>\n",
       "      <td>1</td>\n",
       "      <td>Arcades, Indoor Playcentre, Active Life, Kids ...</td>\n",
       "    </tr>\n",
       "    <tr>\n",
       "      <th>82</th>\n",
       "      <td>ppFCk9aQkM338Rgwpl2F5A</td>\n",
       "      <td>Wawa</td>\n",
       "      <td>3604 Chestnut St</td>\n",
       "      <td>Philadelphia</td>\n",
       "      <td>PA</td>\n",
       "      <td>19104</td>\n",
       "      <td>39.954573</td>\n",
       "      <td>-75.194894</td>\n",
       "      <td>3.0</td>\n",
       "      <td>56</td>\n",
       "      <td>1</td>\n",
       "      <td>Restaurants, Automotive, Delis, Gas Stations, ...</td>\n",
       "    </tr>\n",
       "  </tbody>\n",
       "</table>\n",
       "</div>"
      ],
      "text/plain": [
       "                   business_id                       name            address  \\\n",
       "149143  e-ZyZc24wgkKafM3pguR2w             Milkcrate Cafe   400 E Girard Ave   \n",
       "121485  Ui5VPcIQzUvYhJ_NuTgukg  Popeyes Louisiana Kitchen  5200 Woodland Ave   \n",
       "38607   qnprJxrjwuEivitA8V2aEQ                   Fiorella   817 Christian St   \n",
       "124112  R3r9ZoGExGDZL4etQUrwUQ                 Jump To It     2528 S 24th St   \n",
       "82      ppFCk9aQkM338Rgwpl2F5A                       Wawa   3604 Chestnut St   \n",
       "\n",
       "                city state postal_code   latitude  longitude  stars  \\\n",
       "149143  Philadelphia    PA       19125  39.969974 -75.130207    4.5   \n",
       "121485  Philadelphia    PA       19143  39.938272 -75.215610    1.5   \n",
       "38607   Philadelphia    PA       19147  39.938868 -75.156939    4.5   \n",
       "124112  Philadelphia    PA       19145  39.920558 -75.188250    2.5   \n",
       "82      Philadelphia    PA       19104  39.954573 -75.194894    3.0   \n",
       "\n",
       "        review_count  is_open  \\\n",
       "149143           228        1   \n",
       "121485            22        1   \n",
       "38607            120        1   \n",
       "124112            16        1   \n",
       "82                56        1   \n",
       "\n",
       "                                               categories  \n",
       "149143  Books, Mags, Music & Video, Restaurants, Vinyl...  \n",
       "121485  Chicken Wings, American (Traditional), Fast Fo...  \n",
       "38607   Pasta Shops, Specialty Food, Food, Italian, Re...  \n",
       "124112  Arcades, Indoor Playcentre, Active Life, Kids ...  \n",
       "82      Restaurants, Automotive, Delis, Gas Stations, ...  "
      ]
     },
     "execution_count": 9,
     "metadata": {},
     "output_type": "execute_result"
    }
   ],
   "source": [
    "# Filter rows where 'Restaurants' is in the 'categories' column\n",
    "restaurants_df = business_df[business_df['categories'].str.contains('Restaurants', na=False)]\n",
    "print(restaurants_df.shape)\n",
    "restaurants_df.sample(5)"
   ]
  },
  {
   "cell_type": "markdown",
   "id": "47c6379b",
   "metadata": {},
   "source": [
    "### Review File"
   ]
  },
  {
   "cell_type": "code",
   "execution_count": 10,
   "id": "29ecaf3b",
   "metadata": {},
   "outputs": [
    {
     "name": "stdout",
     "output_type": "stream",
     "text": [
      "(6990280, 9)\n"
     ]
    },
    {
     "data": {
      "text/html": [
       "<div>\n",
       "<style scoped>\n",
       "    .dataframe tbody tr th:only-of-type {\n",
       "        vertical-align: middle;\n",
       "    }\n",
       "\n",
       "    .dataframe tbody tr th {\n",
       "        vertical-align: top;\n",
       "    }\n",
       "\n",
       "    .dataframe thead th {\n",
       "        text-align: right;\n",
       "    }\n",
       "</style>\n",
       "<table border=\"1\" class=\"dataframe\">\n",
       "  <thead>\n",
       "    <tr style=\"text-align: right;\">\n",
       "      <th></th>\n",
       "      <th>review_id</th>\n",
       "      <th>user_id</th>\n",
       "      <th>business_id</th>\n",
       "      <th>stars</th>\n",
       "      <th>useful</th>\n",
       "      <th>funny</th>\n",
       "      <th>cool</th>\n",
       "      <th>text</th>\n",
       "      <th>date</th>\n",
       "    </tr>\n",
       "  </thead>\n",
       "  <tbody>\n",
       "    <tr>\n",
       "      <th>0</th>\n",
       "      <td>KU_O5udG6zpxOg-VcAEodg</td>\n",
       "      <td>mh_-eMZ6K5RLWhZyISBhwA</td>\n",
       "      <td>XQfwVwDr-v0ZS3_CbbE5Xw</td>\n",
       "      <td>3.0</td>\n",
       "      <td>0</td>\n",
       "      <td>0</td>\n",
       "      <td>0</td>\n",
       "      <td>If you decide to eat here, just be aware it is...</td>\n",
       "      <td>2018-07-07 22:09:11</td>\n",
       "    </tr>\n",
       "    <tr>\n",
       "      <th>1</th>\n",
       "      <td>BiTunyQ73aT9WBnpR9DZGw</td>\n",
       "      <td>OyoGAe7OKpv6SyGZT5g77Q</td>\n",
       "      <td>7ATYjTIgM3jUlt4UM3IypQ</td>\n",
       "      <td>5.0</td>\n",
       "      <td>1</td>\n",
       "      <td>0</td>\n",
       "      <td>1</td>\n",
       "      <td>I've taken a lot of spin classes over the year...</td>\n",
       "      <td>2012-01-03 15:28:18</td>\n",
       "    </tr>\n",
       "    <tr>\n",
       "      <th>2</th>\n",
       "      <td>saUsX_uimxRlCVr67Z4Jig</td>\n",
       "      <td>8g_iMtfSiwikVnbP2etR0A</td>\n",
       "      <td>YjUWPpI6HXG530lwP-fb2A</td>\n",
       "      <td>3.0</td>\n",
       "      <td>0</td>\n",
       "      <td>0</td>\n",
       "      <td>0</td>\n",
       "      <td>Family diner. Had the buffet. Eclectic assortm...</td>\n",
       "      <td>2014-02-05 20:30:30</td>\n",
       "    </tr>\n",
       "    <tr>\n",
       "      <th>3</th>\n",
       "      <td>AqPFMleE6RsU23_auESxiA</td>\n",
       "      <td>_7bHUi9Uuf5__HHc_Q8guQ</td>\n",
       "      <td>kxX2SOes4o-D3ZQBkiMRfA</td>\n",
       "      <td>5.0</td>\n",
       "      <td>1</td>\n",
       "      <td>0</td>\n",
       "      <td>1</td>\n",
       "      <td>Wow!  Yummy, different,  delicious.   Our favo...</td>\n",
       "      <td>2015-01-04 00:01:03</td>\n",
       "    </tr>\n",
       "    <tr>\n",
       "      <th>4</th>\n",
       "      <td>Sx8TMOWLNuJBWer-0pcmoA</td>\n",
       "      <td>bcjbaE6dDog4jkNY91ncLQ</td>\n",
       "      <td>e4Vwtrqf-wpJfwesgvdgxQ</td>\n",
       "      <td>4.0</td>\n",
       "      <td>1</td>\n",
       "      <td>0</td>\n",
       "      <td>1</td>\n",
       "      <td>Cute interior and owner (?) gave us tour of up...</td>\n",
       "      <td>2017-01-14 20:54:15</td>\n",
       "    </tr>\n",
       "  </tbody>\n",
       "</table>\n",
       "</div>"
      ],
      "text/plain": [
       "                review_id                 user_id             business_id  \\\n",
       "0  KU_O5udG6zpxOg-VcAEodg  mh_-eMZ6K5RLWhZyISBhwA  XQfwVwDr-v0ZS3_CbbE5Xw   \n",
       "1  BiTunyQ73aT9WBnpR9DZGw  OyoGAe7OKpv6SyGZT5g77Q  7ATYjTIgM3jUlt4UM3IypQ   \n",
       "2  saUsX_uimxRlCVr67Z4Jig  8g_iMtfSiwikVnbP2etR0A  YjUWPpI6HXG530lwP-fb2A   \n",
       "3  AqPFMleE6RsU23_auESxiA  _7bHUi9Uuf5__HHc_Q8guQ  kxX2SOes4o-D3ZQBkiMRfA   \n",
       "4  Sx8TMOWLNuJBWer-0pcmoA  bcjbaE6dDog4jkNY91ncLQ  e4Vwtrqf-wpJfwesgvdgxQ   \n",
       "\n",
       "   stars  useful  funny  cool  \\\n",
       "0    3.0       0      0     0   \n",
       "1    5.0       1      0     1   \n",
       "2    3.0       0      0     0   \n",
       "3    5.0       1      0     1   \n",
       "4    4.0       1      0     1   \n",
       "\n",
       "                                                text                 date  \n",
       "0  If you decide to eat here, just be aware it is...  2018-07-07 22:09:11  \n",
       "1  I've taken a lot of spin classes over the year...  2012-01-03 15:28:18  \n",
       "2  Family diner. Had the buffet. Eclectic assortm...  2014-02-05 20:30:30  \n",
       "3  Wow!  Yummy, different,  delicious.   Our favo...  2015-01-04 00:01:03  \n",
       "4  Cute interior and owner (?) gave us tour of up...  2017-01-14 20:54:15  "
      ]
     },
     "execution_count": 10,
     "metadata": {},
     "output_type": "execute_result"
    }
   ],
   "source": [
    "# Importing Yelp Review JSON File\n",
    "\n",
    "# Create an empty list to store the JSON data\n",
    "reviews_list = []\n",
    "\n",
    "# Read the JSON file using jsonlines\n",
    "with jsonlines.open(data_path + \"yelp_academic_dataset_review.json\") as reader:\n",
    "    for obj in reader:\n",
    "        reviews_list.append(obj)\n",
    "        \n",
    "# Convert the list of JSON objects to a pandas DataFrame\n",
    "reviews_df = pd.DataFrame(reviews_list)        \n",
    "\n",
    "# Length of rows of Data\n",
    "print(reviews_df.shape)\n",
    "\n",
    "# Display the first few rows of the DataFrame\n",
    "reviews_df.head()"
   ]
  },
  {
   "cell_type": "code",
   "execution_count": 11,
   "id": "42b7158b",
   "metadata": {},
   "outputs": [
    {
     "name": "stdout",
     "output_type": "stream",
     "text": [
      "(6990280, 6)\n"
     ]
    }
   ],
   "source": [
    "# Drop the columns that are not required\n",
    "reviews_df = reviews_df.drop(['useful','funny','cool'], axis=1)\n",
    "\n",
    "print(reviews_df.shape)"
   ]
  },
  {
   "cell_type": "markdown",
   "id": "58d31f0c",
   "metadata": {},
   "source": [
    "### Filter reviews from businesses in Philly"
   ]
  },
  {
   "cell_type": "code",
   "execution_count": 12,
   "id": "baba8996",
   "metadata": {},
   "outputs": [
    {
     "name": "stdout",
     "output_type": "stream",
     "text": [
      "(511138, 6)\n"
     ]
    }
   ],
   "source": [
    "# Keeping only the reviews for the businesses in Philadelphia\n",
    "philly_reviews_df = reviews_df.merge(restaurants_df[['business_id']], on='business_id', how='inner')\n",
    "print(philly_reviews_df.shape)"
   ]
  },
  {
   "cell_type": "code",
   "execution_count": 13,
   "id": "42c6b836-a280-4c5f-b974-aace5d1e6294",
   "metadata": {},
   "outputs": [
    {
     "name": "stdout",
     "output_type": "stream",
     "text": [
      "(511138, 9)\n"
     ]
    },
    {
     "data": {
      "text/html": [
       "<div>\n",
       "<style scoped>\n",
       "    .dataframe tbody tr th:only-of-type {\n",
       "        vertical-align: middle;\n",
       "    }\n",
       "\n",
       "    .dataframe tbody tr th {\n",
       "        vertical-align: top;\n",
       "    }\n",
       "\n",
       "    .dataframe thead th {\n",
       "        text-align: right;\n",
       "    }\n",
       "</style>\n",
       "<table border=\"1\" class=\"dataframe\">\n",
       "  <thead>\n",
       "    <tr style=\"text-align: right;\">\n",
       "      <th></th>\n",
       "      <th>review_id</th>\n",
       "      <th>user_id</th>\n",
       "      <th>business_id</th>\n",
       "      <th>stars</th>\n",
       "      <th>text</th>\n",
       "      <th>date</th>\n",
       "      <th>year</th>\n",
       "      <th>month</th>\n",
       "      <th>time</th>\n",
       "    </tr>\n",
       "  </thead>\n",
       "  <tbody>\n",
       "    <tr>\n",
       "      <th>0</th>\n",
       "      <td>AqPFMleE6RsU23_auESxiA</td>\n",
       "      <td>_7bHUi9Uuf5__HHc_Q8guQ</td>\n",
       "      <td>kxX2SOes4o-D3ZQBkiMRfA</td>\n",
       "      <td>5.0</td>\n",
       "      <td>Wow!  Yummy, different,  delicious.   Our favo...</td>\n",
       "      <td>2015-01-04 00:01:03</td>\n",
       "      <td>2015</td>\n",
       "      <td>1</td>\n",
       "      <td>00:01:03</td>\n",
       "    </tr>\n",
       "    <tr>\n",
       "      <th>1</th>\n",
       "      <td>HME_ksGph3se7Aze5hxa-Q</td>\n",
       "      <td>kSMOJwJXuEUqzfmuFncK4A</td>\n",
       "      <td>kxX2SOes4o-D3ZQBkiMRfA</td>\n",
       "      <td>2.0</td>\n",
       "      <td>Dine-in gets 2 stars. Disappointing service &amp; ...</td>\n",
       "      <td>2014-07-13 17:25:47</td>\n",
       "      <td>2014</td>\n",
       "      <td>7</td>\n",
       "      <td>17:25:47</td>\n",
       "    </tr>\n",
       "    <tr>\n",
       "      <th>2</th>\n",
       "      <td>EJWyA5wpdVMji1j4TwSZqQ</td>\n",
       "      <td>mqBWACmaHflW4eh_Ofp16Q</td>\n",
       "      <td>kxX2SOes4o-D3ZQBkiMRfA</td>\n",
       "      <td>5.0</td>\n",
       "      <td>After a long hiatus from reviewing I have awak...</td>\n",
       "      <td>2010-08-20 19:16:04</td>\n",
       "      <td>2010</td>\n",
       "      <td>8</td>\n",
       "      <td>19:16:04</td>\n",
       "    </tr>\n",
       "    <tr>\n",
       "      <th>3</th>\n",
       "      <td>T_kAb2NeylB-JdNDKphryw</td>\n",
       "      <td>Z-xgVb4nM42943m2wbBkFw</td>\n",
       "      <td>kxX2SOes4o-D3ZQBkiMRfA</td>\n",
       "      <td>5.0</td>\n",
       "      <td>We've eaten here 3 times and it seems that eac...</td>\n",
       "      <td>2017-01-02 14:25:26</td>\n",
       "      <td>2017</td>\n",
       "      <td>1</td>\n",
       "      <td>14:25:26</td>\n",
       "    </tr>\n",
       "    <tr>\n",
       "      <th>4</th>\n",
       "      <td>NENaCqb6TNj5CyY1LOdI6Q</td>\n",
       "      <td>2SEoXb6r6hPKrl9V9VzBgA</td>\n",
       "      <td>kxX2SOes4o-D3ZQBkiMRfA</td>\n",
       "      <td>5.0</td>\n",
       "      <td>Came to Philly for a family event but stayed a...</td>\n",
       "      <td>2015-07-28 17:15:20</td>\n",
       "      <td>2015</td>\n",
       "      <td>7</td>\n",
       "      <td>17:15:20</td>\n",
       "    </tr>\n",
       "  </tbody>\n",
       "</table>\n",
       "</div>"
      ],
      "text/plain": [
       "                review_id                 user_id             business_id  \\\n",
       "0  AqPFMleE6RsU23_auESxiA  _7bHUi9Uuf5__HHc_Q8guQ  kxX2SOes4o-D3ZQBkiMRfA   \n",
       "1  HME_ksGph3se7Aze5hxa-Q  kSMOJwJXuEUqzfmuFncK4A  kxX2SOes4o-D3ZQBkiMRfA   \n",
       "2  EJWyA5wpdVMji1j4TwSZqQ  mqBWACmaHflW4eh_Ofp16Q  kxX2SOes4o-D3ZQBkiMRfA   \n",
       "3  T_kAb2NeylB-JdNDKphryw  Z-xgVb4nM42943m2wbBkFw  kxX2SOes4o-D3ZQBkiMRfA   \n",
       "4  NENaCqb6TNj5CyY1LOdI6Q  2SEoXb6r6hPKrl9V9VzBgA  kxX2SOes4o-D3ZQBkiMRfA   \n",
       "\n",
       "   stars                                               text  \\\n",
       "0    5.0  Wow!  Yummy, different,  delicious.   Our favo...   \n",
       "1    2.0  Dine-in gets 2 stars. Disappointing service & ...   \n",
       "2    5.0  After a long hiatus from reviewing I have awak...   \n",
       "3    5.0  We've eaten here 3 times and it seems that eac...   \n",
       "4    5.0  Came to Philly for a family event but stayed a...   \n",
       "\n",
       "                  date  year  month      time  \n",
       "0  2015-01-04 00:01:03  2015      1  00:01:03  \n",
       "1  2014-07-13 17:25:47  2014      7  17:25:47  \n",
       "2  2010-08-20 19:16:04  2010      8  19:16:04  \n",
       "3  2017-01-02 14:25:26  2017      1  14:25:26  \n",
       "4  2015-07-28 17:15:20  2015      7  17:15:20  "
      ]
     },
     "execution_count": 13,
     "metadata": {},
     "output_type": "execute_result"
    }
   ],
   "source": [
    "def extract_date_components(date_str):\n",
    "    date_part, time_part = date_str.split(' ')\n",
    "    year, month, _ = date_part.split('-')\n",
    "    return year, month, time_part\n",
    "\n",
    "# Extracting year, month, and time components and assigning them to new columns\n",
    "philly_reviews_df['year'], philly_reviews_df['month'], philly_reviews_df['time'] = zip(*philly_reviews_df.date.apply(extract_date_components))\n",
    "\n",
    "# Convert the 'year' and 'month' columns to numeric\n",
    "philly_reviews_df['year'] = pd.to_numeric(philly_reviews_df['year'])\n",
    "philly_reviews_df['month'] = pd.to_numeric(philly_reviews_df['month'])\n",
    "\n",
    "# Length of rows of Data\n",
    "print(philly_reviews_df.shape)\n",
    "\n",
    "# Display the first few rows of the DataFrame\n",
    "philly_reviews_df.head()"
   ]
  },
  {
   "cell_type": "code",
   "execution_count": 14,
   "id": "9db7779f",
   "metadata": {},
   "outputs": [
    {
     "data": {
      "text/plain": [
       "178325"
      ]
     },
     "execution_count": 14,
     "metadata": {},
     "output_type": "execute_result"
    }
   ],
   "source": [
    "# Number of Unique Users in this Reviews Dataset\n",
    "n_users = len(philly_reviews_df.user_id.unique())\n",
    "n_users"
   ]
  },
  {
   "cell_type": "code",
   "execution_count": 15,
   "id": "00accc16",
   "metadata": {},
   "outputs": [
    {
     "name": "stdout",
     "output_type": "stream",
     "text": [
      "2022-01-19 19:46:34\n"
     ]
    }
   ],
   "source": [
    "# Get the maximum value of the \"date\" column\n",
    "max_date = philly_reviews_df['date'].max()\n",
    "\n",
    "# Display the maximum date\n",
    "print(max_date)"
   ]
  },
  {
   "cell_type": "code",
   "execution_count": 16,
   "id": "693c71e0",
   "metadata": {},
   "outputs": [
    {
     "data": {
      "image/png": "[encoded data removed]",
      "text/plain": [
       "<Figure size 1500x927.07 with 1 Axes>"
      ]
     },
     "metadata": {},
     "output_type": "display_data"
    }
   ],
   "source": [
    "# Histogram plot of Business Reviews per Year\n",
    "reviews_sorted = philly_reviews_df.sort_values(by='year', ascending=True)\n",
    "\n",
    "def make_histogram(dataset, attribute, bins=18, bar_color='#3498db', edge_color='#2980b9', title='Title', x='X', y='Y', sort_index=False):\n",
    "    fig, ax = plt.subplots(figsize=(15, 15/1.6180))\n",
    "    ax.set_title(title, fontsize=24, pad=20)\n",
    "    ax.set_xlabel(x, fontsize=16, labelpad=20)\n",
    "    ax.set_ylabel(y, fontsize=16, labelpad=20)\n",
    "    \n",
    "    plt.hist(dataset[attribute], bins=bins, color=bar_color, ec=edge_color, linewidth=2) \n",
    "    plt.xticks(rotation=45)\n",
    "\n",
    "    \n",
    "make_histogram(reviews_sorted, 'year', title='Reviews per year', x='Year', y='Counts')"
   ]
  },
  {
   "cell_type": "markdown",
   "id": "60115136",
   "metadata": {},
   "source": [
    "The histogram has a left-skewed distribution with a drop in reviews in 2020 (due to COVID-19). I will only be analyzing reviews from **2015 to 2021** for the sake of this capstone project."
   ]
  },
  {
   "cell_type": "code",
   "execution_count": 17,
   "id": "c5b15722",
   "metadata": {},
   "outputs": [
    {
     "name": "stdout",
     "output_type": "stream",
     "text": [
      "(345849, 9)\n"
     ]
    }
   ],
   "source": [
    "# Filtering for Reviews from 2015-2021\n",
    "philly_reviews_df = philly_reviews_df[(philly_reviews_df['year'].astype(int) >= 2015) & (philly_reviews_df['year'].astype(int) <= 2021)]\n",
    "\n",
    "# Overview of our Final Reviews Dataset\n",
    "print(philly_reviews_df.shape)\n"
   ]
  },
  {
   "cell_type": "markdown",
   "id": "e771ab92",
   "metadata": {},
   "source": [
    "### We are now left with 371,412 rows of Yelp User Reviews Data for our 3,525 Restaurant Businesses in Philadelphia."
   ]
  },
  {
   "cell_type": "code",
   "execution_count": 18,
   "id": "983a6b91",
   "metadata": {},
   "outputs": [
    {
     "data": {
      "text/plain": [
       "review_id      0\n",
       "user_id        0\n",
       "business_id    0\n",
       "stars          0\n",
       "text           0\n",
       "date           0\n",
       "year           0\n",
       "month          0\n",
       "time           0\n",
       "dtype: int64"
      ]
     },
     "execution_count": 18,
     "metadata": {},
     "output_type": "execute_result"
    }
   ],
   "source": [
    "# Checking for Null Values\n",
    "philly_reviews_df.isnull().sum()"
   ]
  },
  {
   "cell_type": "code",
   "execution_count": 19,
   "id": "044f4705",
   "metadata": {},
   "outputs": [],
   "source": [
    "# Save cleaned business dataframe into csv file\n",
    "restaurants_df.to_csv(data_path + \"restaurants_dataset.csv\")\n",
    "\n",
    "# Save cleaned reviews dataframe into csv file\n",
    "philly_reviews_df.to_csv(data_path + \"reviews_dataset.csv\")"
   ]
  }
 ],
 "metadata": {
  "kernelspec": {
   "display_name": "Python 3 (ipykernel)",
   "language": "python",
   "name": "python3"
  },
  "language_info": {
   "codemirror_mode": {
    "name": "ipython",
    "version": 3
   },
   "file_extension": ".py",
   "mimetype": "text/x-python",
   "name": "python",
   "nbconvert_exporter": "python",
   "pygments_lexer": "ipython3",
   "version": "3.11.5"
  }
 },
 "nbformat": 4,
 "nbformat_minor": 5
}
